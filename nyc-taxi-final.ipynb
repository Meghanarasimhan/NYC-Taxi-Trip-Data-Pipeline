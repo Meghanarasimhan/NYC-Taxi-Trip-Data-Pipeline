{
 "cells": [
  {
   "cell_type": "code",
   "execution_count": 1,
   "id": "072f14e5-56b7-4ba6-bcc0-fdfd4ec09ea0",
   "metadata": {
    "execution": {
     "iopub.execute_input": "2025-06-06T20:03:54.799269Z",
     "iopub.status.busy": "2025-06-06T20:03:54.798432Z",
     "iopub.status.idle": "2025-06-06T20:05:04.860116Z",
     "shell.execute_reply": "2025-06-06T20:05:04.857835Z",
     "shell.execute_reply.started": "2025-06-06T20:03:54.799208Z"
    }
   },
   "outputs": [
    {
     "data": {
      "application/vnd.jupyter.widget-view+json": {
       "model_id": "00f86e046aee471dbd996faa40b303c4",
       "version_major": 2,
       "version_minor": 0
      },
      "text/plain": [
       "VBox()"
      ]
     },
     "metadata": {},
     "output_type": "display_data"
    },
    {
     "name": "stdout",
     "output_type": "stream",
     "text": [
      "Starting Spark application\n"
     ]
    },
    {
     "data": {
      "text/html": [
       "<table>\n",
       "<tbody><tr><th>ID</th><th>YARN Application ID</th><th>Kind</th><th>State</th><th>Spark UI</th><th>Driver log</th><th>User</th><th>Current session?</th></tr><tr><td>0</td><td>application_1749239336629_0001</td><td>pyspark</td><td>idle</td><td><a target=\"_blank\" href=\"http://ip-172-31-7-164.ec2.internal:20888/proxy/application_1749239336629_0001/\" class=\"emr-proxy-link j-1J0090E9WP5BK application_1749239336629_0001\" emr-resource=\"j-1J0090E9WP5BK\n",
       "\" application-id=\"application_1749239336629_0001\">Link</a></td><td><a target=\"_blank\" href=\"http://ip-172-31-13-143.ec2.internal:8042/node/containerlogs/container_1749239336629_0001_01_000001/livy\">Link</a></td><td>None</td><td>✔</td></tr></tbody></table>"
      ],
      "text/plain": [
       "<IPython.core.display.HTML object>"
      ]
     },
     "metadata": {},
     "output_type": "display_data"
    },
    {
     "data": {
      "application/vnd.jupyter.widget-view+json": {
       "model_id": "",
       "version_major": 2,
       "version_minor": 0
      },
      "text/plain": [
       "FloatProgress(value=0.0, bar_style='info', description='Progress:', layout=Layout(height='25px', width='50%'),…"
      ]
     },
     "metadata": {},
     "output_type": "display_data"
    },
    {
     "name": "stdout",
     "output_type": "stream",
     "text": [
      "SparkSession available as 'spark'.\n"
     ]
    },
    {
     "data": {
      "application/vnd.jupyter.widget-view+json": {
       "model_id": "",
       "version_major": 2,
       "version_minor": 0
      },
      "text/plain": [
       "FloatProgress(value=0.0, bar_style='info', description='Progress:', layout=Layout(height='25px', width='50%'),…"
      ]
     },
     "metadata": {},
     "output_type": "display_data"
    },
    {
     "name": "stdout",
     "output_type": "stream",
     "text": [
      "'3.5.5-amzn-0'"
     ]
    }
   ],
   "source": [
    "spark.version"
   ]
  },
  {
   "cell_type": "code",
   "execution_count": 5,
   "id": "52bc4f35-8c11-4b82-ad47-ed2f6d830725",
   "metadata": {
    "execution": {
     "iopub.execute_input": "2025-06-10T03:05:38.400908Z",
     "iopub.status.busy": "2025-06-10T03:05:38.400588Z",
     "iopub.status.idle": "2025-06-10T03:06:22.049835Z",
     "shell.execute_reply": "2025-06-10T03:06:22.048506Z",
     "shell.execute_reply.started": "2025-06-10T03:05:38.400873Z"
    },
    "tags": []
   },
   "outputs": [
    {
     "data": {
      "application/vnd.jupyter.widget-view+json": {
       "model_id": "eb332a9d176149eaade30f95702a922b",
       "version_major": 2,
       "version_minor": 0
      },
      "text/plain": [
       "VBox()"
      ]
     },
     "metadata": {},
     "output_type": "display_data"
    },
    {
     "data": {
      "application/vnd.jupyter.widget-view+json": {
       "model_id": "",
       "version_major": 2,
       "version_minor": 0
      },
      "text/plain": [
       "FloatProgress(value=0.0, bar_style='info', description='Progress:', layout=Layout(height='25px', width='50%'),…"
      ]
     },
     "metadata": {},
     "output_type": "display_data"
    }
   ],
   "source": [
    "df = spark.read.csv(\n",
    "    \"s3://nyc-taxi-final-megha/cleaned/cleaned_taxi_data.csv\",\n",
    "    header=True,\n",
    "    inferSchema=True\n",
    ")"
   ]
  },
  {
   "cell_type": "code",
   "execution_count": 2,
   "id": "4573a4d9-eaf0-4966-89cf-0156c5deb6d3",
   "metadata": {
    "execution": {
     "iopub.execute_input": "2025-06-10T00:30:35.759453Z",
     "iopub.status.busy": "2025-06-10T00:30:35.759066Z",
     "iopub.status.idle": "2025-06-10T00:30:49.295961Z",
     "shell.execute_reply": "2025-06-10T00:30:49.294619Z",
     "shell.execute_reply.started": "2025-06-10T00:30:35.759399Z"
    }
   },
   "outputs": [
    {
     "data": {
      "application/vnd.jupyter.widget-view+json": {
       "model_id": "edc8ecd7bc314a309b4a5721b6b53a5a",
       "version_major": 2,
       "version_minor": 0
      },
      "text/plain": [
       "VBox()"
      ]
     },
     "metadata": {},
     "output_type": "display_data"
    },
    {
     "data": {
      "application/vnd.jupyter.widget-view+json": {
       "model_id": "",
       "version_major": 2,
       "version_minor": 0
      },
      "text/plain": [
       "FloatProgress(value=0.0, bar_style='info', description='Progress:', layout=Layout(height='25px', width='50%'),…"
      ]
     },
     "metadata": {},
     "output_type": "display_data"
    },
    {
     "name": "stdout",
     "output_type": "stream",
     "text": [
      "+--------+--------------------+---------------------+---------------+-------------+----------+------------------+------------+------------+------------+-----------+-----+-------+----------+------------+---------------------+------------+--------------------+-----------+------------------+-----------+------------------+\n",
      "|VendorID|tpep_pickup_datetime|tpep_dropoff_datetime|passenger_count|trip_distance|RatecodeID|store_and_fwd_flag|PULocationID|DOLocationID|payment_type|fare_amount|extra|mta_tax|tip_amount|tolls_amount|improvement_surcharge|total_amount|congestion_surcharge|Airport_fee|cbd_congestion_fee|pickup_hour|       tip_percent|\n",
      "+--------+--------------------+---------------------+---------------+-------------+----------+------------------+------------+------------+------------+-----------+-----+-------+----------+------------+---------------------+------------+--------------------+-----------+------------------+-----------+------------------+\n",
      "|       1| 2025-03-01 00:17:16|  2025-03-01 00:25:52|            1.0|          0.9|       1.0|                 N|         140|         236|           1|        7.9|  3.5|    0.5|       2.6|         0.0|                  1.0|        15.5|                 2.5|        0.0|               0.0|          0| 32.91139240506329|\n",
      "|       1| 2025-03-01 00:37:38|  2025-03-01 00:43:51|            1.0|          0.6|       1.0|                 N|         140|         262|           1|        6.5|  3.5|    0.5|       2.3|         0.0|                  1.0|        13.8|                 2.5|        0.0|               0.0|          0| 35.38461538461538|\n",
      "|       2| 2025-03-01 00:24:35|  2025-03-01 00:39:49|            1.0|         1.94|       1.0|                 N|         161|          68|           1|       14.9|  1.0|    0.5|      5.16|         0.0|                  1.0|       25.81|                 2.5|        0.0|              0.75|          0|34.630872483221474|\n",
      "|       2| 2025-03-01 00:56:16|  2025-03-01 01:01:35|            2.0|         0.95|       1.0|                 N|         231|          13|           1|        7.2|  1.0|    0.5|      2.59|         0.0|                  1.0|       15.54|                 2.5|        0.0|              0.75|          0| 35.97222222222222|\n",
      "|       1| 2025-03-01 00:01:44|  2025-03-01 00:10:00|            1.0|          1.5|       1.0|                 N|         163|         236|           1|        8.6| 4.25|    0.5|      2.85|         0.0|                  1.0|        17.2|                 2.5|        0.0|              0.75|          0|33.139534883720934|\n",
      "|       1| 2025-03-01 00:11:57|  2025-03-01 00:28:33|            0.0|          2.0|       1.0|                 N|         166|          74|           1|       16.3|  1.0|    0.5|       2.0|         0.0|                  1.0|        20.8|                 0.0|        0.0|               0.0|          0|12.269938650306749|\n",
      "|       2| 2025-03-01 00:22:35|  2025-03-01 00:34:06|            2.0|         3.27|       1.0|                 N|          88|          79|           1|       17.0|  1.0|    0.5|      4.55|         0.0|                  1.0|        27.3|                 2.5|        0.0|              0.75|          0|26.764705882352942|\n",
      "|       2| 2025-03-01 00:37:22|  2025-03-01 00:45:03|            1.0|         0.95|       1.0|                 N|         114|         107|           1|        8.6|  1.0|    0.5|       2.0|         0.0|                  1.0|       16.35|                 2.5|        0.0|              0.75|          0| 23.25581395348837|\n",
      "|       2| 2025-02-28 23:50:41|  2025-03-01 00:03:51|            1.0|         2.09|       1.0|                 N|          79|         186|           1|       13.5|  1.0|    0.5|      3.85|         0.0|                  1.0|        23.1|                 2.5|        0.0|              0.75|         23| 28.51851851851852|\n",
      "|       2| 2025-03-01 00:06:48|  2025-03-01 00:18:44|            1.0|         1.43|       1.0|                 N|         186|         107|           1|       12.1|  1.0|    0.5|      3.57|         0.0|                  1.0|       21.42|                 2.5|        0.0|              0.75|          0|29.504132231404956|\n",
      "|       2| 2025-03-01 00:27:25|  2025-03-01 00:34:41|            1.0|         0.89|       1.0|                 N|          79|         211|           1|        8.6|  1.0|    0.5|       0.0|         0.0|                  1.0|       14.35|                 2.5|        0.0|              0.75|          0|               0.0|\n",
      "|       2| 2025-03-01 00:39:38|  2025-03-01 00:43:49|            1.0|         0.72|       1.0|                 N|         211|         231|           1|        6.5|  1.0|    0.5|       2.0|         0.0|                  1.0|       14.25|                 2.5|        0.0|              0.75|          0| 30.76923076923077|\n",
      "|       1| 2025-03-01 00:44:28|  2025-03-01 01:25:34|            2.0|         18.6|       2.0|                 N|         132|          48|           2|       70.0|  5.0|    0.5|       0.0|        6.94|                  1.0|       83.44|                 2.5|       1.75|              0.75|          0|               0.0|\n",
      "|       2| 2025-03-01 00:00:15|  2025-03-01 01:03:30|            4.0|        23.28|       1.0|                 N|         132|         220|           2|      101.7|  1.0|    0.5|       0.0|        6.94|                  1.0|      112.89|                 0.0|       1.75|               0.0|          0|               0.0|\n",
      "|       2| 2025-03-01 00:02:02|  2025-03-01 00:18:45|            1.0|         2.73|       1.0|                 N|         163|         263|           1|       17.7|  1.0|    0.5|      4.69|         0.0|                  1.0|       28.14|                 2.5|        0.0|              0.75|          0| 26.49717514124294|\n",
      "|       2| 2025-03-01 00:21:17|  2025-03-01 00:25:33|            1.0|         1.29|       1.0|                 N|         141|         229|           1|        7.9|  1.0|    0.5|      2.05|         0.0|                  1.0|        15.7|                 2.5|        0.0|              0.75|          0|25.949367088607588|\n",
      "|       2| 2025-03-01 00:41:51|  2025-03-01 00:50:56|            1.0|         1.99|       1.0|                 N|         211|         137|           1|       11.4|  1.0|    0.5|       1.0|         0.0|                  1.0|       18.15|                 2.5|        0.0|              0.75|          0| 8.771929824561402|\n",
      "|       1| 2025-03-01 00:29:44|  2025-03-01 00:35:25|            1.0|          0.9|       1.0|                 N|         246|          90|           1|        7.9| 4.25|    0.5|       2.7|         0.0|                  1.0|       16.35|                 2.5|        0.0|              0.75|          0|34.177215189873415|\n",
      "|       1| 2025-03-01 00:41:30|  2025-03-01 00:53:25|            2.0|          2.4|       1.0|                 N|         249|         163|           1|       14.9| 4.25|    0.5|       4.1|         0.0|                  1.0|       24.75|                 2.5|        0.0|              0.75|          0|27.516778523489933|\n",
      "|       2| 2025-03-01 00:06:21|  2025-03-01 00:12:06|            2.0|         0.59|       1.0|                 N|         186|          68|           2|        7.2|  1.0|    0.5|       0.0|         0.0|                  1.0|       12.95|                 2.5|        0.0|              0.75|          0|               0.0|\n",
      "+--------+--------------------+---------------------+---------------+-------------+----------+------------------+------------+------------+------------+-----------+-----+-------+----------+------------+---------------------+------------+--------------------+-----------+------------------+-----------+------------------+\n",
      "only showing top 20 rows\n",
      "\n",
      "root\n",
      " |-- VendorID: integer (nullable = true)\n",
      " |-- tpep_pickup_datetime: timestamp (nullable = true)\n",
      " |-- tpep_dropoff_datetime: timestamp (nullable = true)\n",
      " |-- passenger_count: double (nullable = true)\n",
      " |-- trip_distance: double (nullable = true)\n",
      " |-- RatecodeID: double (nullable = true)\n",
      " |-- store_and_fwd_flag: string (nullable = true)\n",
      " |-- PULocationID: integer (nullable = true)\n",
      " |-- DOLocationID: integer (nullable = true)\n",
      " |-- payment_type: integer (nullable = true)\n",
      " |-- fare_amount: double (nullable = true)\n",
      " |-- extra: double (nullable = true)\n",
      " |-- mta_tax: double (nullable = true)\n",
      " |-- tip_amount: double (nullable = true)\n",
      " |-- tolls_amount: double (nullable = true)\n",
      " |-- improvement_surcharge: double (nullable = true)\n",
      " |-- total_amount: double (nullable = true)\n",
      " |-- congestion_surcharge: double (nullable = true)\n",
      " |-- Airport_fee: double (nullable = true)\n",
      " |-- cbd_congestion_fee: double (nullable = true)\n",
      " |-- pickup_hour: integer (nullable = true)\n",
      " |-- tip_percent: double (nullable = true)"
     ]
    }
   ],
   "source": [
    "df.show()\n",
    "df.printSchema()"
   ]
  },
  {
   "cell_type": "code",
   "execution_count": 3,
   "id": "d097724f-367d-474c-887a-393895f85120",
   "metadata": {
    "execution": {
     "iopub.execute_input": "2025-06-10T00:32:58.201519Z",
     "iopub.status.busy": "2025-06-10T00:32:58.201242Z",
     "iopub.status.idle": "2025-06-10T00:32:58.996022Z",
     "shell.execute_reply": "2025-06-10T00:32:58.995112Z",
     "shell.execute_reply.started": "2025-06-10T00:32:58.201485Z"
    }
   },
   "outputs": [
    {
     "data": {
      "application/vnd.jupyter.widget-view+json": {
       "model_id": "ee52d17ca3c943a8ae948782b1ce704c",
       "version_major": 2,
       "version_minor": 0
      },
      "text/plain": [
       "VBox()"
      ]
     },
     "metadata": {},
     "output_type": "display_data"
    },
    {
     "data": {
      "application/vnd.jupyter.widget-view+json": {
       "model_id": "",
       "version_major": 2,
       "version_minor": 0
      },
      "text/plain": [
       "FloatProgress(value=0.0, bar_style='info', description='Progress:', layout=Layout(height='25px', width='50%'),…"
      ]
     },
     "metadata": {},
     "output_type": "display_data"
    },
    {
     "name": "stdout",
     "output_type": "stream",
     "text": [
      "DataFrame[summary: string, VendorID: string, passenger_count: string, trip_distance: string, RatecodeID: string, store_and_fwd_flag: string, PULocationID: string, DOLocationID: string, payment_type: string, fare_amount: string, extra: string, mta_tax: string, tip_amount: string, tolls_amount: string, improvement_surcharge: string, total_amount: string, congestion_surcharge: string, Airport_fee: string, cbd_congestion_fee: string, pickup_hour: string, tip_percent: string]"
     ]
    }
   ],
   "source": [
    "df.describe()"
   ]
  },
  {
   "cell_type": "code",
   "execution_count": 5,
   "id": "3e0b00c6-0326-4aa5-aa89-e6513871525c",
   "metadata": {
    "execution": {
     "iopub.execute_input": "2025-06-10T00:35:53.231445Z",
     "iopub.status.busy": "2025-06-10T00:35:53.231167Z",
     "iopub.status.idle": "2025-06-10T00:35:53.318837Z",
     "shell.execute_reply": "2025-06-10T00:35:53.317562Z",
     "shell.execute_reply.started": "2025-06-10T00:35:53.231412Z"
    },
    "tags": []
   },
   "outputs": [
    {
     "data": {
      "application/vnd.jupyter.widget-view+json": {
       "model_id": "1af7fbb8d5d646f08e2397f55b7e80e6",
       "version_major": 2,
       "version_minor": 0
      },
      "text/plain": [
       "VBox()"
      ]
     },
     "metadata": {},
     "output_type": "display_data"
    },
    {
     "data": {
      "application/vnd.jupyter.widget-view+json": {
       "model_id": "",
       "version_major": 2,
       "version_minor": 0
      },
      "text/plain": [
       "FloatProgress(value=0.0, bar_style='info', description='Progress:', layout=Layout(height='25px', width='50%'),…"
      ]
     },
     "metadata": {},
     "output_type": "display_data"
    },
    {
     "name": "stderr",
     "output_type": "stream",
     "text": [
      "An error was encountered:\n",
      "'DataFrame' object has no attribute 'isnull'\n",
      "Traceback (most recent call last):\n",
      "  File \"/mnt/yarn/usercache/livy/appcache/application_1749514643032_0001/container_1749514643032_0001_01_000001/pyspark.zip/pyspark/sql/dataframe.py\", line 3130, in __getattr__\n",
      "    raise AttributeError(\n",
      "AttributeError: 'DataFrame' object has no attribute 'isnull'\n",
      "\n"
     ]
    }
   ],
   "source": [
    "df.isnull().sum()"
   ]
  },
  {
   "cell_type": "code",
   "execution_count": 6,
   "id": "3991db74-315e-43ae-9ad4-6f25505894b5",
   "metadata": {
    "execution": {
     "iopub.execute_input": "2025-06-10T00:36:45.872714Z",
     "iopub.status.busy": "2025-06-10T00:36:45.872438Z",
     "iopub.status.idle": "2025-06-10T00:36:45.986658Z",
     "shell.execute_reply": "2025-06-10T00:36:45.985492Z",
     "shell.execute_reply.started": "2025-06-10T00:36:45.872680Z"
    }
   },
   "outputs": [
    {
     "data": {
      "application/vnd.jupyter.widget-view+json": {
       "model_id": "b46c1f372672473daf71e3a785896ffb",
       "version_major": 2,
       "version_minor": 0
      },
      "text/plain": [
       "VBox()"
      ]
     },
     "metadata": {},
     "output_type": "display_data"
    },
    {
     "data": {
      "application/vnd.jupyter.widget-view+json": {
       "model_id": "",
       "version_major": 2,
       "version_minor": 0
      },
      "text/plain": [
       "FloatProgress(value=0.0, bar_style='info', description='Progress:', layout=Layout(height='25px', width='50%'),…"
      ]
     },
     "metadata": {},
     "output_type": "display_data"
    },
    {
     "name": "stderr",
     "output_type": "stream",
     "text": [
      "An error was encountered:\n",
      "name 'count' is not defined\n",
      "Traceback (most recent call last):\n",
      "  File \"<stdin>\", line 1, in <listcomp>\n",
      "NameError: name 'count' is not defined\n",
      "\n"
     ]
    }
   ],
   "source": [
    "df.select([count(when(col(c).isNull(), c)).alias(c) for c in df.columns]).show()"
   ]
  },
  {
   "cell_type": "code",
   "execution_count": 6,
   "id": "0cea9b81-8276-4cc6-9566-a36264cd9c6a",
   "metadata": {
    "execution": {
     "iopub.execute_input": "2025-06-10T03:06:48.411769Z",
     "iopub.status.busy": "2025-06-10T03:06:48.411494Z",
     "iopub.status.idle": "2025-06-10T03:06:50.748585Z",
     "shell.execute_reply": "2025-06-10T03:06:50.746734Z",
     "shell.execute_reply.started": "2025-06-10T03:06:48.411736Z"
    },
    "tags": []
   },
   "outputs": [
    {
     "data": {
      "application/vnd.jupyter.widget-view+json": {
       "model_id": "a574c5ae107640199c798d24e2874519",
       "version_major": 2,
       "version_minor": 0
      },
      "text/plain": [
       "VBox()"
      ]
     },
     "metadata": {},
     "output_type": "display_data"
    },
    {
     "data": {
      "application/vnd.jupyter.widget-view+json": {
       "model_id": "",
       "version_major": 2,
       "version_minor": 0
      },
      "text/plain": [
       "FloatProgress(value=0.0, bar_style='info', description='Progress:', layout=Layout(height='25px', width='50%'),…"
      ]
     },
     "metadata": {},
     "output_type": "display_data"
    },
    {
     "name": "stdout",
     "output_type": "stream",
     "text": [
      "+--------------------+---------------------+------------------+-----------+\n",
      "|tpep_pickup_datetime|tpep_dropoff_datetime|     trip_duration|fare_amount|\n",
      "+--------------------+---------------------+------------------+-----------+\n",
      "| 2025-03-01 00:17:16|  2025-03-01 00:25:52|               8.6|        7.9|\n",
      "| 2025-03-01 00:37:38|  2025-03-01 00:43:51| 6.216666666666667|        6.5|\n",
      "| 2025-03-01 00:24:35|  2025-03-01 00:39:49|15.233333333333333|       14.9|\n",
      "| 2025-03-01 00:56:16|  2025-03-01 01:01:35| 5.316666666666666|        7.2|\n",
      "| 2025-03-01 00:01:44|  2025-03-01 00:10:00| 8.266666666666667|        8.6|\n",
      "+--------------------+---------------------+------------------+-----------+\n",
      "only showing top 5 rows"
     ]
    }
   ],
   "source": [
    "from pyspark.sql.functions import unix_timestamp, col\n",
    "\n",
    "# Adding trip duration and filter unreasonable values\n",
    "df_clean = df.withColumn(\n",
    "    \"trip_duration\",\n",
    "    (unix_timestamp(\"tpep_dropoff_datetime\") - unix_timestamp(\"tpep_pickup_datetime\")) / 60\n",
    ")\n",
    "\n",
    "# Filter: keeping rows with positive duration and fare\n",
    "df_clean = df_clean.filter(\n",
    "    (col(\"trip_duration\") > 0) & (col(\"fare_amount\") > 0)\n",
    ")\n",
    "\n",
    "# Previewing cleaned data\n",
    "df_clean.select(\"tpep_pickup_datetime\", \"tpep_dropoff_datetime\", \"trip_duration\", \"fare_amount\").show(5)\n"
   ]
  },
  {
   "cell_type": "code",
   "execution_count": 7,
   "id": "8dd63048-b50b-4e56-a75a-40a292abf133",
   "metadata": {
    "execution": {
     "iopub.execute_input": "2025-06-10T03:07:01.891431Z",
     "iopub.status.busy": "2025-06-10T03:07:01.891135Z",
     "iopub.status.idle": "2025-06-10T03:07:39.494384Z",
     "shell.execute_reply": "2025-06-10T03:07:39.493152Z",
     "shell.execute_reply.started": "2025-06-10T03:07:01.891397Z"
    },
    "tags": []
   },
   "outputs": [
    {
     "data": {
      "application/vnd.jupyter.widget-view+json": {
       "model_id": "b7a8990e34c5430980af518e780a8de6",
       "version_major": 2,
       "version_minor": 0
      },
      "text/plain": [
       "VBox()"
      ]
     },
     "metadata": {},
     "output_type": "display_data"
    },
    {
     "data": {
      "application/vnd.jupyter.widget-view+json": {
       "model_id": "",
       "version_major": 2,
       "version_minor": 0
      },
      "text/plain": [
       "FloatProgress(value=0.0, bar_style='info', description='Progress:', layout=Layout(height='25px', width='50%'),…"
      ]
     },
     "metadata": {},
     "output_type": "display_data"
    }
   ],
   "source": [
    "df_clean.write.mode(\"overwrite\").parquet(\"s3://nyc-taxi-final-megha/transformed/\")\n"
   ]
  },
  {
   "cell_type": "code",
   "execution_count": 8,
   "id": "c2e6213e-e9d1-483e-9ed7-60bb35aa1804",
   "metadata": {
    "execution": {
     "iopub.execute_input": "2025-06-10T03:07:47.983106Z",
     "iopub.status.busy": "2025-06-10T03:07:47.982831Z",
     "iopub.status.idle": "2025-06-10T03:07:49.336182Z",
     "shell.execute_reply": "2025-06-10T03:07:49.335237Z",
     "shell.execute_reply.started": "2025-06-10T03:07:47.983073Z"
    },
    "tags": []
   },
   "outputs": [
    {
     "data": {
      "application/vnd.jupyter.widget-view+json": {
       "model_id": "34415e4ef84d406cb7788ea20d488198",
       "version_major": 2,
       "version_minor": 0
      },
      "text/plain": [
       "VBox()"
      ]
     },
     "metadata": {},
     "output_type": "display_data"
    },
    {
     "data": {
      "application/vnd.jupyter.widget-view+json": {
       "model_id": "",
       "version_major": 2,
       "version_minor": 0
      },
      "text/plain": [
       "FloatProgress(value=0.0, bar_style='info', description='Progress:', layout=Layout(height='25px', width='50%'),…"
      ]
     },
     "metadata": {},
     "output_type": "display_data"
    },
    {
     "name": "stdout",
     "output_type": "stream",
     "text": [
      "+-----------+-------------+------------------+---------------+-----------+\n",
      "|fare_amount|trip_distance|     trip_duration|passenger_count|pickup_hour|\n",
      "+-----------+-------------+------------------+---------------+-----------+\n",
      "|        7.9|          0.9|               8.6|            1.0|          0|\n",
      "|        6.5|          0.6| 6.216666666666667|            1.0|          0|\n",
      "|       14.9|         1.94|15.233333333333333|            1.0|          0|\n",
      "|        7.2|         0.95| 5.316666666666666|            2.0|          0|\n",
      "|        8.6|          1.5| 8.266666666666667|            1.0|          0|\n",
      "+-----------+-------------+------------------+---------------+-----------+\n",
      "only showing top 5 rows"
     ]
    }
   ],
   "source": [
    "from pyspark.sql.functions import hour, col\n",
    "\n",
    "df_ml = df_clean.withColumn(\"pickup_hour\", hour(\"tpep_pickup_datetime\"))\n",
    "df_ml.select(\"fare_amount\", \"trip_distance\", \"trip_duration\", \"passenger_count\", \"pickup_hour\").show(5)\n"
   ]
  },
  {
   "cell_type": "code",
   "execution_count": 12,
   "id": "68b18f27-403a-47e6-a053-2b8f7a604004",
   "metadata": {
    "execution": {
     "iopub.execute_input": "2025-06-10T01:17:01.190883Z",
     "iopub.status.busy": "2025-06-10T01:17:01.190484Z",
     "iopub.status.idle": "2025-06-10T01:17:04.126029Z",
     "shell.execute_reply": "2025-06-10T01:17:04.124527Z",
     "shell.execute_reply.started": "2025-06-10T01:17:01.190848Z"
    },
    "tags": []
   },
   "outputs": [
    {
     "name": "stdout",
     "output_type": "stream",
     "text": [
      "Defaulting to user installation because normal site-packages is not writeable\n",
      "Requirement already satisfied: numpy in /mnt/notebook-env/lib/python3.9/site-packages (1.26.4)\n",
      "Note: you may need to restart the kernel to use updated packages.\n"
     ]
    }
   ],
   "source": [
    "%pip install numpy\n"
   ]
  },
  {
   "cell_type": "code",
   "execution_count": 1,
   "id": "836edd68-5822-43fe-bd79-2c389df4d96f",
   "metadata": {
    "execution": {
     "iopub.execute_input": "2025-06-10T03:02:38.982882Z",
     "iopub.status.busy": "2025-06-10T03:02:38.982507Z",
     "iopub.status.idle": "2025-06-10T03:03:53.411788Z",
     "shell.execute_reply": "2025-06-10T03:03:53.410510Z",
     "shell.execute_reply.started": "2025-06-10T03:02:38.982846Z"
    },
    "tags": []
   },
   "outputs": [
    {
     "data": {
      "application/vnd.jupyter.widget-view+json": {
       "model_id": "4c8590bc7ec745ac96d716716281af08",
       "version_major": 2,
       "version_minor": 0
      },
      "text/plain": [
       "VBox()"
      ]
     },
     "metadata": {},
     "output_type": "display_data"
    },
    {
     "name": "stdout",
     "output_type": "stream",
     "text": [
      "Starting Spark application\n"
     ]
    },
    {
     "data": {
      "text/html": [
       "<table>\n<tbody><tr><th>ID</th><th>YARN Application ID</th><th>Kind</th><th>State</th><th>Spark UI</th><th>Driver log</th><th>User</th><th>Current session?</th></tr><tr><td>0</td><td>application_1749524253299_0001</td><td>pyspark</td><td>idle</td><td><a target=\"_blank\" href=\"http://ip-172-31-8-89.ec2.internal:20888/proxy/application_1749524253299_0001/\" class=\"emr-proxy-link j-2AG0W2PUXDCL3 application_1749524253299_0001\" emr-resource=\"j-2AG0W2PUXDCL3\n\" application-id=\"application_1749524253299_0001\">Link</a></td><td><a target=\"_blank\" href=\"http://ip-172-31-14-222.ec2.internal:8042/node/containerlogs/container_1749524253299_0001_01_000001/livy\">Link</a></td><td>None</td><td>✔</td></tr></tbody></table>"
      ],
      "text/plain": [
       "<IPython.core.display.HTML object>"
      ]
     },
     "metadata": {},
     "output_type": "display_data"
    },
    {
     "data": {
      "application/vnd.jupyter.widget-view+json": {
       "model_id": "",
       "version_major": 2,
       "version_minor": 0
      },
      "text/plain": [
       "FloatProgress(value=0.0, bar_style='info', description='Progress:', layout=Layout(height='25px', width='50%'),…"
      ]
     },
     "metadata": {},
     "output_type": "display_data"
    },
    {
     "name": "stdout",
     "output_type": "stream",
     "text": [
      "SparkSession available as 'spark'.\n"
     ]
    },
    {
     "data": {
      "application/vnd.jupyter.widget-view+json": {
       "model_id": "",
       "version_major": 2,
       "version_minor": 0
      },
      "text/plain": [
       "FloatProgress(value=0.0, bar_style='info', description='Progress:', layout=Layout(height='25px', width='50%'),…"
      ]
     },
     "metadata": {},
     "output_type": "display_data"
    }
   ],
   "source": [
    "from pyspark.ml.feature import VectorAssembler\n",
    "\n",
    "\n"
   ]
  },
  {
   "cell_type": "code",
   "execution_count": 3,
   "id": "77588909-252b-471b-87f9-45d88f49603f",
   "metadata": {
    "execution": {
     "iopub.execute_input": "2025-06-10T03:05:06.499933Z",
     "iopub.status.busy": "2025-06-10T03:05:06.499576Z",
     "iopub.status.idle": "2025-06-10T03:05:06.669906Z",
     "shell.execute_reply": "2025-06-10T03:05:06.667788Z",
     "shell.execute_reply.started": "2025-06-10T03:05:06.499898Z"
    },
    "tags": []
   },
   "outputs": [
    {
     "data": {
      "application/vnd.jupyter.widget-view+json": {
       "model_id": "5e3606c3141747a794583964baa4982a",
       "version_major": 2,
       "version_minor": 0
      },
      "text/plain": [
       "VBox()"
      ]
     },
     "metadata": {},
     "output_type": "display_data"
    },
    {
     "data": {
      "application/vnd.jupyter.widget-view+json": {
       "model_id": "",
       "version_major": 2,
       "version_minor": 0
      },
      "text/plain": [
       "FloatProgress(value=0.0, bar_style='info', description='Progress:', layout=Layout(height='25px', width='50%'),…"
      ]
     },
     "metadata": {},
     "output_type": "display_data"
    }
   ],
   "source": [
    "feature_cols = [\"trip_distance\", \"trip_duration\", \"passenger_count\", \"pickup_hour\"]\n",
    "\n",
    "assembler = VectorAssembler(inputCols=feature_cols, outputCol=\"features\")"
   ]
  },
  {
   "cell_type": "code",
   "execution_count": 9,
   "id": "df0a9eaa-e5ce-4b1d-867f-c7d37ee3ca38",
   "metadata": {
    "execution": {
     "iopub.execute_input": "2025-06-10T03:07:59.319775Z",
     "iopub.status.busy": "2025-06-10T03:07:59.319467Z",
     "iopub.status.idle": "2025-06-10T03:08:01.721961Z",
     "shell.execute_reply": "2025-06-10T03:08:01.720535Z",
     "shell.execute_reply.started": "2025-06-10T03:07:59.319726Z"
    },
    "tags": []
   },
   "outputs": [
    {
     "data": {
      "application/vnd.jupyter.widget-view+json": {
       "model_id": "eea6604765b5422393bd253ef1c332a2",
       "version_major": 2,
       "version_minor": 0
      },
      "text/plain": [
       "VBox()"
      ]
     },
     "metadata": {},
     "output_type": "display_data"
    },
    {
     "data": {
      "application/vnd.jupyter.widget-view+json": {
       "model_id": "",
       "version_major": 2,
       "version_minor": 0
      },
      "text/plain": [
       "FloatProgress(value=0.0, bar_style='info', description='Progress:', layout=Layout(height='25px', width='50%'),…"
      ]
     },
     "metadata": {},
     "output_type": "display_data"
    },
    {
     "name": "stdout",
     "output_type": "stream",
     "text": [
      "+--------------------+-----------+\n",
      "|            features|fare_amount|\n",
      "+--------------------+-----------+\n",
      "|   [0.9,8.6,1.0,0.0]|        7.9|\n",
      "|[0.6,6.2166666666...|        6.5|\n",
      "|[1.94,15.23333333...|       14.9|\n",
      "|[0.95,5.316666666...|        7.2|\n",
      "|[1.5,8.2666666666...|        8.6|\n",
      "+--------------------+-----------+\n",
      "only showing top 5 rows"
     ]
    }
   ],
   "source": [
    "df_ready = assembler.transform(df_ml).select(\"features\", \"fare_amount\")\n",
    "df_ready.show(5)\n"
   ]
  },
  {
   "cell_type": "code",
   "execution_count": 10,
   "id": "fbd683de-1fac-42c5-996b-c598e7fa8537",
   "metadata": {
    "execution": {
     "iopub.execute_input": "2025-06-10T03:08:42.544683Z",
     "iopub.status.busy": "2025-06-10T03:08:42.544307Z",
     "iopub.status.idle": "2025-06-10T03:08:42.687268Z",
     "shell.execute_reply": "2025-06-10T03:08:42.683106Z",
     "shell.execute_reply.started": "2025-06-10T03:08:42.544634Z"
    }
   },
   "outputs": [
    {
     "data": {
      "application/vnd.jupyter.widget-view+json": {
       "model_id": "fddb9eda51a74e0f97b2074f377489b9",
       "version_major": 2,
       "version_minor": 0
      },
      "text/plain": [
       "VBox()"
      ]
     },
     "metadata": {},
     "output_type": "display_data"
    },
    {
     "data": {
      "application/vnd.jupyter.widget-view+json": {
       "model_id": "",
       "version_major": 2,
       "version_minor": 0
      },
      "text/plain": [
       "FloatProgress(value=0.0, bar_style='info', description='Progress:', layout=Layout(height='25px', width='50%'),…"
      ]
     },
     "metadata": {},
     "output_type": "display_data"
    }
   ],
   "source": [
    "# Spliting the data into training and testing sets\n",
    "train_data, test_data = df_ready.randomSplit([0.8, 0.2], seed=42)\n"
   ]
  },
  {
   "cell_type": "code",
   "execution_count": 11,
   "id": "3ba45d22-fb40-4b1e-b029-8577802ebe34",
   "metadata": {
    "execution": {
     "iopub.execute_input": "2025-06-10T03:09:22.028394Z",
     "iopub.status.busy": "2025-06-10T03:09:22.028067Z",
     "iopub.status.idle": "2025-06-10T03:10:29.692397Z",
     "shell.execute_reply": "2025-06-10T03:10:29.691261Z",
     "shell.execute_reply.started": "2025-06-10T03:09:22.028351Z"
    }
   },
   "outputs": [
    {
     "data": {
      "application/vnd.jupyter.widget-view+json": {
       "model_id": "bf5f8b14e1af4e30825e09e4150a6a85",
       "version_major": 2,
       "version_minor": 0
      },
      "text/plain": [
       "VBox()"
      ]
     },
     "metadata": {},
     "output_type": "display_data"
    },
    {
     "data": {
      "application/vnd.jupyter.widget-view+json": {
       "model_id": "",
       "version_major": 2,
       "version_minor": 0
      },
      "text/plain": [
       "FloatProgress(value=0.0, bar_style='info', description='Progress:', layout=Layout(height='25px', width='50%'),…"
      ]
     },
     "metadata": {},
     "output_type": "display_data"
    }
   ],
   "source": [
    "from pyspark.ml.regression import LinearRegression\n",
    "\n",
    "lr = LinearRegression(featuresCol=\"features\", labelCol=\"fare_amount\")\n",
    "lr_model = lr.fit(train_data)\n"
   ]
  },
  {
   "cell_type": "code",
   "execution_count": 12,
   "id": "3b6323dc-3f89-4efd-ab47-9cb7cfe1d056",
   "metadata": {
    "execution": {
     "iopub.execute_input": "2025-06-10T03:11:13.866501Z",
     "iopub.status.busy": "2025-06-10T03:11:13.866192Z",
     "iopub.status.idle": "2025-06-10T03:11:33.265229Z",
     "shell.execute_reply": "2025-06-10T03:11:33.264094Z",
     "shell.execute_reply.started": "2025-06-10T03:11:13.866466Z"
    }
   },
   "outputs": [
    {
     "data": {
      "application/vnd.jupyter.widget-view+json": {
       "model_id": "ee8a9ca760da48289981e76955930245",
       "version_major": 2,
       "version_minor": 0
      },
      "text/plain": [
       "VBox()"
      ]
     },
     "metadata": {},
     "output_type": "display_data"
    },
    {
     "data": {
      "application/vnd.jupyter.widget-view+json": {
       "model_id": "",
       "version_major": 2,
       "version_minor": 0
      },
      "text/plain": [
       "FloatProgress(value=0.0, bar_style='info', description='Progress:', layout=Layout(height='25px', width='50%'),…"
      ]
     },
     "metadata": {},
     "output_type": "display_data"
    },
    {
     "name": "stdout",
     "output_type": "stream",
     "text": [
      "Root Mean Squared Error (RMSE): 16.441178667398017\n",
      "R-squared (R?): 0.12218806930338488"
     ]
    }
   ],
   "source": [
    "test_results = lr_model.evaluate(test_data)\n",
    "\n",
    "print(\"Root Mean Squared Error (RMSE):\", test_results.rootMeanSquaredError)\n",
    "print(\"R-squared (R²):\", test_results.r2)\n"
   ]
  },
  {
   "cell_type": "code",
   "execution_count": null,
   "id": "2aa6b1ac-c437-4b2d-9095-3264843d8ec3",
   "metadata": {},
   "outputs": [],
   "source": []
  }
 ],
 "metadata": {
  "kernelspec": {
   "display_name": "PySpark",
   "language": "python",
   "name": "pysparkkernel"
  },
  "language_info": {
   "codemirror_mode": {
    "name": "python",
    "version": 3
   },
   "file_extension": ".py",
   "mimetype": "text/x-python",
   "name": "pyspark",
   "pygments_lexer": "python3"
  }
 },
 "nbformat": 4,
 "nbformat_minor": 5
}
